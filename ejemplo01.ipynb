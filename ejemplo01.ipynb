{
  "nbformat": 4,
  "nbformat_minor": 0,
  "metadata": {
    "colab": {
      "provenance": [],
      "authorship_tag": "ABX9TyPXfGM07wZ7quXWhHn3YM7P",
      "include_colab_link": true
    },
    "kernelspec": {
      "name": "python3",
      "display_name": "Python 3"
    },
    "language_info": {
      "name": "python"
    }
  },
  "cells": [
    {
      "cell_type": "markdown",
      "metadata": {
        "id": "view-in-github",
        "colab_type": "text"
      },
      "source": [
        "<a href=\"https://colab.research.google.com/github/dteso/test-colab/blob/MiRama/ejemplo01.ipynb\" target=\"_parent\"><img src=\"https://colab.research.google.com/assets/colab-badge.svg\" alt=\"Open In Colab\"/></a>"
      ]
    },
    {
      "cell_type": "code",
      "source": [
        "# Lista de estudiantes con sus notas\n",
        "estudiantes = [\n",
        "    {\"nombre\": \"Ana\", \"nota\": 8.5},\n",
        "    {\"nombre\": \"Carlos\", \"nota\": 4.0},\n",
        "    {\"nombre\": \"Elena\", \"nota\": 9.2}\n",
        "]\n",
        "\n",
        "\n",
        "# Función para agregar un estudiante\n",
        "def agregar_estudiante(nombre, nota):\n",
        "    estudiantes.append({\"nombre\": nombre, \"nota\": nota})\n",
        "    print(f\"{nombre} ha sido agregado con una nota de {nota}.\")\n",
        "\n",
        "\n",
        "# Función para eliminar un estudiante\n",
        "def eliminar_estudiante(nombre):\n",
        "    global estudiantes\n",
        "    estudiantes = [est for est in estudiantes if est[\"nombre\"] != nombre]\n",
        "    print(f\"Estudiante {nombre} eliminado.\")\n",
        "\n",
        "\n",
        "# Función para mostrar estudiantes\n",
        "def mostrar_estudiantes():\n",
        "    for estudiante in estudiantes:\n",
        "        print(f\"Nombre: {estudiante['nombre']}, Nota: {estudiante['nota']}\")\n",
        "\n",
        "\n",
        "# Función para calcular el promedio de las notas\n",
        "def promedio_notas():\n",
        "    total_notas = sum([est['nota'] for est in estudiantes])\n",
        "    promedio = total_notas / len(estudiantes)\n",
        "    print(f\"El promedio de las notas es: {promedio:.2f}\")\n",
        "\n",
        "\n",
        "# Función para encontrar el mejor estudiante\n",
        "def mejor_estudiante():\n",
        "    mejor = max(estudiantes, key=lambda est: est[\"nota\"])\n",
        "    print(f\"El mejor estudiante es {mejor['nombre']} con una nota de {mejor['nota']}.\")\n",
        "\n",
        "\n",
        "# Función para mostrar estudiantes aprobados\n",
        "def estudiantes_aprobados():\n",
        "    aprobados = [est for est in estudiantes if est['nota'] >= 5]\n",
        "    print(\"Estudiantes aprobados:\")\n",
        "    for est in aprobados:\n",
        "        print(f\"{est['nombre']} con una nota de {est['nota']}\")\n",
        "\n",
        "\n",
        "# Función para ordenar los estudiantes por nota\n",
        "def ordenar_estudiantes():\n",
        "    estudiantes_ordenados = sorted(estudiantes, key=lambda est: est[\"nota\"], reverse=True)\n",
        "    print(\"Estudiantes ordenados por nota:\")\n",
        "    for est in estudiantes_ordenados:\n",
        "        print(f\"{est['nombre']} - {est['nota']}\")\n",
        "\n",
        "def menu():\n",
        "    while True:\n",
        "      print(\"\\nMenú:\")\n",
        "      print(\"1. Agregar estudiante\")\n",
        "      print(\"2. Eliminar estudiante\")\n",
        "      print(\"3. Mostrar estudiantes\")\n",
        "      print(\"4. Calcular promedio de notas\")\n",
        "      print(\"5. Mejor estudiante\")\n",
        "      print(\"6. Estudiantes aprobados\")\n",
        "      print(\"7. Ordenar estudiantes por nota\")\n",
        "      print(\"8. Salir\")\n",
        "\n",
        "      opcion = input(\"Elige una opción: \")\n",
        "\n",
        "\n",
        "      if opcion == \"1\":\n",
        "          nombre = input(\"Introduce el nombre del estudiante: \")\n",
        "          nota = float(input(f\"Introduce la nota de {nombre}: \"))\n",
        "          agregar_estudiante(nombre, nota)\n",
        "      elif opcion == \"2\":\n",
        "          nombre = input(\"Introduce el nombre del estudiante a eliminar: \")\n",
        "          eliminar_estudiante(nombre)\n",
        "      elif opcion == \"3\":\n",
        "          mostrar_estudiantes()\n",
        "      elif opcion == \"4\":\n",
        "          promedio_notas()\n",
        "      elif opcion == \"5\":\n",
        "          mejor_estudiante()\n",
        "      elif opcion == \"6\":\n",
        "          estudiantes_aprobados()\n",
        "      elif opcion == \"7\":\n",
        "          ordenar_estudiantes()\n",
        "      elif opcion == \"8\":\n",
        "          print(\"Saliendo del sistema...\")\n",
        "          break\n",
        "      else:\n",
        "          print(\"Opción no válida. Por favor, elige una opción correcta.\")\n",
        "\n",
        "# Menú interactivo para el usuario\n",
        "menu()\n"
      ],
      "metadata": {
        "colab": {
          "base_uri": "https://localhost:8080/",
          "height": 495
        },
        "id": "4VKNAKUNp9fA",
        "outputId": "7627f083-33b5-4c31-963c-3fd5df06d670"
      },
      "execution_count": 3,
      "outputs": [
        {
          "output_type": "stream",
          "name": "stdout",
          "text": [
            "\n",
            "Menú:\n",
            "1. Agregar estudiante\n",
            "2. Eliminar estudiante\n",
            "3. Mostrar estudiantes\n",
            "4. Calcular promedio de notas\n",
            "5. Mejor estudiante\n",
            "6. Estudiantes aprobados\n",
            "7. Ordenar estudiantes por nota\n",
            "8. Salir\n"
          ]
        },
        {
          "output_type": "error",
          "ename": "KeyboardInterrupt",
          "evalue": "Interrupted by user",
          "traceback": [
            "\u001b[0;31m---------------------------------------------------------------------------\u001b[0m",
            "\u001b[0;31mKeyboardInterrupt\u001b[0m                         Traceback (most recent call last)",
            "\u001b[0;32m<ipython-input-3-c21de4e6a6e5>\u001b[0m in \u001b[0;36m<cell line: 0>\u001b[0;34m()\u001b[0m\n\u001b[1;32m     93\u001b[0m \u001b[0;34m\u001b[0m\u001b[0m\n\u001b[1;32m     94\u001b[0m \u001b[0;31m# Menú interactivo para el usuario\u001b[0m\u001b[0;34m\u001b[0m\u001b[0;34m\u001b[0m\u001b[0m\n\u001b[0;32m---> 95\u001b[0;31m \u001b[0mmenu\u001b[0m\u001b[0;34m(\u001b[0m\u001b[0;34m)\u001b[0m\u001b[0;34m\u001b[0m\u001b[0;34m\u001b[0m\u001b[0m\n\u001b[0m",
            "\u001b[0;32m<ipython-input-3-c21de4e6a6e5>\u001b[0m in \u001b[0;36mmenu\u001b[0;34m()\u001b[0m\n\u001b[1;32m     66\u001b[0m       \u001b[0mprint\u001b[0m\u001b[0;34m(\u001b[0m\u001b[0;34m\"8. Salir\"\u001b[0m\u001b[0;34m)\u001b[0m\u001b[0;34m\u001b[0m\u001b[0;34m\u001b[0m\u001b[0m\n\u001b[1;32m     67\u001b[0m \u001b[0;34m\u001b[0m\u001b[0m\n\u001b[0;32m---> 68\u001b[0;31m       \u001b[0mopcion\u001b[0m \u001b[0;34m=\u001b[0m \u001b[0minput\u001b[0m\u001b[0;34m(\u001b[0m\u001b[0;34m\"Elige una opción: \"\u001b[0m\u001b[0;34m)\u001b[0m\u001b[0;34m\u001b[0m\u001b[0;34m\u001b[0m\u001b[0m\n\u001b[0m\u001b[1;32m     69\u001b[0m \u001b[0;34m\u001b[0m\u001b[0m\n\u001b[1;32m     70\u001b[0m \u001b[0;34m\u001b[0m\u001b[0m\n",
            "\u001b[0;32m/usr/local/lib/python3.11/dist-packages/ipykernel/kernelbase.py\u001b[0m in \u001b[0;36mraw_input\u001b[0;34m(self, prompt)\u001b[0m\n\u001b[1;32m   1175\u001b[0m                 \u001b[0;34m\"raw_input was called, but this frontend does not support input requests.\"\u001b[0m\u001b[0;34m\u001b[0m\u001b[0;34m\u001b[0m\u001b[0m\n\u001b[1;32m   1176\u001b[0m             )\n\u001b[0;32m-> 1177\u001b[0;31m         return self._input_request(\n\u001b[0m\u001b[1;32m   1178\u001b[0m             \u001b[0mstr\u001b[0m\u001b[0;34m(\u001b[0m\u001b[0mprompt\u001b[0m\u001b[0;34m)\u001b[0m\u001b[0;34m,\u001b[0m\u001b[0;34m\u001b[0m\u001b[0;34m\u001b[0m\u001b[0m\n\u001b[1;32m   1179\u001b[0m             \u001b[0mself\u001b[0m\u001b[0;34m.\u001b[0m\u001b[0m_parent_ident\u001b[0m\u001b[0;34m[\u001b[0m\u001b[0;34m\"shell\"\u001b[0m\u001b[0;34m]\u001b[0m\u001b[0;34m,\u001b[0m\u001b[0;34m\u001b[0m\u001b[0;34m\u001b[0m\u001b[0m\n",
            "\u001b[0;32m/usr/local/lib/python3.11/dist-packages/ipykernel/kernelbase.py\u001b[0m in \u001b[0;36m_input_request\u001b[0;34m(self, prompt, ident, parent, password)\u001b[0m\n\u001b[1;32m   1217\u001b[0m             \u001b[0;32mexcept\u001b[0m \u001b[0mKeyboardInterrupt\u001b[0m\u001b[0;34m:\u001b[0m\u001b[0;34m\u001b[0m\u001b[0;34m\u001b[0m\u001b[0m\n\u001b[1;32m   1218\u001b[0m                 \u001b[0;31m# re-raise KeyboardInterrupt, to truncate traceback\u001b[0m\u001b[0;34m\u001b[0m\u001b[0;34m\u001b[0m\u001b[0m\n\u001b[0;32m-> 1219\u001b[0;31m                 \u001b[0;32mraise\u001b[0m \u001b[0mKeyboardInterrupt\u001b[0m\u001b[0;34m(\u001b[0m\u001b[0;34m\"Interrupted by user\"\u001b[0m\u001b[0;34m)\u001b[0m \u001b[0;32mfrom\u001b[0m \u001b[0;32mNone\u001b[0m\u001b[0;34m\u001b[0m\u001b[0;34m\u001b[0m\u001b[0m\n\u001b[0m\u001b[1;32m   1220\u001b[0m             \u001b[0;32mexcept\u001b[0m \u001b[0mException\u001b[0m\u001b[0;34m:\u001b[0m\u001b[0;34m\u001b[0m\u001b[0;34m\u001b[0m\u001b[0m\n\u001b[1;32m   1221\u001b[0m                 \u001b[0mself\u001b[0m\u001b[0;34m.\u001b[0m\u001b[0mlog\u001b[0m\u001b[0;34m.\u001b[0m\u001b[0mwarning\u001b[0m\u001b[0;34m(\u001b[0m\u001b[0;34m\"Invalid Message:\"\u001b[0m\u001b[0;34m,\u001b[0m \u001b[0mexc_info\u001b[0m\u001b[0;34m=\u001b[0m\u001b[0;32mTrue\u001b[0m\u001b[0;34m)\u001b[0m\u001b[0;34m\u001b[0m\u001b[0;34m\u001b[0m\u001b[0m\n",
            "\u001b[0;31mKeyboardInterrupt\u001b[0m: Interrupted by user"
          ]
        }
      ]
    }
  ]
}